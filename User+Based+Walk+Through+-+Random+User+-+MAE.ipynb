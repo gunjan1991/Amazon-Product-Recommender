{
 "cells": [
  {
   "cell_type": "markdown",
   "metadata": {},
   "source": [
    "# User Based Walk Through - Random User - MAE"
   ]
  },
  {
   "cell_type": "code",
   "execution_count": 5,
   "metadata": {
    "collapsed": false
   },
   "outputs": [],
   "source": [
    "#Read the data\n",
    "\n",
    "import numpy as np\n",
    "import pandas as pd\n",
    "from sklearn import *\n",
    "import final_functions as our_funcs\n",
    "import warnings \n",
    "warnings.filterwarnings('ignore')\n",
    "\n",
    "\n",
    "# !! Just read in data_df as array or dataframe\n",
    "data_df = pd.read_csv(\"Clothing_Shoes_Jewelry_5.csv\")\n",
    "data_df = data_df.drop('Unnamed: 0', 1)\n",
    "\n",
    "#Getting unique items\n",
    "unique_products = data_df.asin.unique()\n",
    "\n",
    "#Get metadata\n",
    "metadata = pd.read_csv(\"clothing_shoes_jewelry_metadata.csv\")\n",
    "metadata = metadata.drop('Unnamed: 0', 1)\n",
    "#data_df_small = data_df.ix[0:4000,:]\n",
    "\n",
    "# !! Just read in nonan_test as a numpy array (possible?)\n",
    "#If not, here's the work:\n",
    "data_df_slim = data_df[['asin', 'overall', 'reviewerID']]\n",
    "user_item_mat = data_df_slim.pivot(index='reviewerID', columns = 'asin', values='overall')\n",
    "test = np.array(user_item_mat)\n",
    "nonan_test = np.nan_to_num(test)"
   ]
  },
  {
   "cell_type": "code",
   "execution_count": 6,
   "metadata": {
    "collapsed": true
   },
   "outputs": [],
   "source": [
    "#Creating user similarity matrix\n",
    "user_sim_mat = metrics.pairwise.cosine_similarity(nonan_test)"
   ]
  },
  {
   "cell_type": "code",
   "execution_count": 7,
   "metadata": {
    "collapsed": true
   },
   "outputs": [],
   "source": [
    "#Creating item similarity matrix\n",
    "nonan_test_t = nonan_test.T\n",
    "itm_sim_mat = metrics.pairwise.cosine_similarity(nonan_test_t)"
   ]
  },
  {
   "cell_type": "code",
   "execution_count": 9,
   "metadata": {
    "collapsed": false
   },
   "outputs": [
    {
     "name": "stdout",
     "output_type": "stream",
     "text": [
      "Welcome to the Amazon clothing, shoes & jewelry recommender\n",
      "\n",
      "\n",
      "Would you like to review some products and get recommendations, or see recommendations for a random user? \n",
      " (type 'User input' or 'Random user'): Random user\n",
      "\n",
      "\n",
      "You selected:  Random user\n",
      "21696\n",
      "User Rated:KEEN Women's Newport H2 Sandal\n",
      "User Rated:Sloggers Women's  Premium Garden Clog with Premium Insole Insole,  Geisha Blue  - Wo's size 9 - Style 260GB09\n",
      "User Rated:Sloggers  Women's Rain and Garden Boot with &quot;All-Day-Comfort&quot; Insole, Midsummer Blue Print - Wo's size 10 - Style 5002BL10\n",
      "User Rated:The &quot;Summit Collection&quot; Pacific Poncho from Charles River Apparel\n",
      "User Rated:Sloggers  Women's Rain and Garden Shoe with &quot;All-Day-Comfort&quot; Insole, Midsummer Black Print - Wo's size 6 - Style 5102BK06\n",
      "User Rated:WonderWink Women's Scrubs Romeo 6 Pocket Flare Leg Pant\n",
      "User Rated:Roamans Women's Plus Size Kate Bigshirt\n",
      "User Rated:Salomon Women's XR Mission Running Shoe\n",
      "User Rated:Women's Plus Size Pants, cropped length in cool linen blend\n",
      "User Rated:Allegra K Women's Long Sleeve Skull Printed Stretch Pullover Shirt\n",
      "User Rated:Funky Boutique Women's Plus Size Pocket Long Sleeve Cardigan\n",
      "User Rated:Funky Boutique Womens PLUS SIZE Batwing Top Plain Long Sleeve Off Shoulder Big Size Tshirt Top 16-26\n",
      "User Rated:Popana Regular and Plus Size Comfortable and Versatile Maxi-Skirt - Made in USA\n"
     ]
    }
   ],
   "source": [
    "print(\"Welcome to the Amazon clothing, shoes & jewelry recommender\")\n",
    "print('\\n')\n",
    "random_or_input = input(\"Would you like to review some products and get recommendations, or see recommendations for a random user? \\n (type 'User input' or 'Random user'): \")\n",
    "print('\\n')\n",
    "print(\"You selected: \", random_or_input)\n",
    "\n",
    "if random_or_input == 'User input':\n",
    "    user_rev = [0]*np.shape(nonan_test)[1]\n",
    "    for i in range(5):\n",
    "        i += 1\n",
    "        random_prod = np.random.randint(0, np.shape(nonan_test)[1])\n",
    "        asin_pd = unique_products[random_prod]\n",
    "        product = metadata[metadata['asin']==asin_pd].title.item()# 'categories']]\n",
    "        product = str(product)\n",
    "        user_review = float(input(\"Please rate \" + product + \": \"))\n",
    "        user_rev[random_prod] = user_review\n",
    "    \n",
    "    np.insert(nonan_test, len(nonan_test), user_rev, 0)\n",
    "    #serve up random rows and get 5 reviews for 5 prods\n",
    "    #result: a list of same length as array's width: w/ reviews at the correct spot based on column index\n",
    "    u1 = np.shape(nonan_test)[0]-1\n",
    "    nonan_test = np.append(nonan_test, np.array([user_rev]), axis = 0)               \n",
    "                    \n",
    "\n",
    "else:\n",
    "    random_row = np.random.randint(0, np.shape(nonan_test)[0])\n",
    "    u1 = random_row\n",
    "\n",
    "print(u1)\n",
    "unrated, rated = our_funcs.getUnrated(nonan_test,u1)\n",
    "#print info about the user: \"product name: review\"\n",
    "for item in rated:\n",
    "    asin_pd = unique_products[item]\n",
    "    product = metadata[metadata['asin']==asin_pd].title.item()# 'categories']]\n",
    "    product = str(product)\n",
    "    print(\"User Rated:\" + product)"
   ]
  },
  {
   "cell_type": "code",
   "execution_count": 13,
   "metadata": {
    "collapsed": false
   },
   "outputs": [
    {
     "name": "stdout",
     "output_type": "stream",
     "text": [
      "Select recommendation method \n",
      "(type 'User-based', 'Item-based', 'Hybrid'): User-based\n",
      "Number of products to recommend? (Input an integer:\n",
      " )3\n",
      "\n",
      "\n",
      "How many similar users to base rec's off of? (Input an integer:\n",
      " )3\n",
      "\n",
      "\n",
      "User Rated: KEEN Women's Newport H2 Sandal\n",
      "User Rated: Sloggers Women's  Premium Garden Clog with Premium Insole Insole,  Geisha Blue  - Wo's size 9 - Style 260GB09\n",
      "User Rated: Sloggers  Women's Rain and Garden Boot with &quot;All-Day-Comfort&quot; Insole, Midsummer Blue Print - Wo's size 10 - Style 5002BL10\n",
      "User Rated: The &quot;Summit Collection&quot; Pacific Poncho from Charles River Apparel\n",
      "User Rated: Sloggers  Women's Rain and Garden Shoe with &quot;All-Day-Comfort&quot; Insole, Midsummer Black Print - Wo's size 6 - Style 5102BK06\n",
      "User Rated: WonderWink Women's Scrubs Romeo 6 Pocket Flare Leg Pant\n",
      "User Rated: Roamans Women's Plus Size Kate Bigshirt\n",
      "User Rated: Salomon Women's XR Mission Running Shoe\n",
      "User Rated: Women's Plus Size Pants, cropped length in cool linen blend\n",
      "User Rated: Allegra K Women's Long Sleeve Skull Printed Stretch Pullover Shirt\n",
      "User Rated: Funky Boutique Women's Plus Size Pocket Long Sleeve Cardigan\n",
      "User Rated: Funky Boutique Womens PLUS SIZE Batwing Top Plain Long Sleeve Off Shoulder Big Size Tshirt Top 16-26\n",
      "User Rated: Popana Regular and Plus Size Comfortable and Versatile Maxi-Skirt - Made in USA\n",
      "\n",
      "\n",
      "Recommendation: Plain Sport Visor Blank Adjustable Velcro Cap (24 Colors Available)\n",
      "Recommendation: Merrell Men's Shiver Moc 2 Waterproof\n",
      "Recommendation: ECCO Women's Yucatan Sandal\n"
     ]
    }
   ],
   "source": [
    "#Let responder give rec method\n",
    "rec_method = input(\"Select recommendation method \\n(type 'User-based', 'Item-based', 'Hybrid'): \")\n",
    "num_recs = int(input(\"Number of products to recommend? (Input an integer:\\n )\"))\n",
    "print('\\n')\n",
    "#Three branches, based on input\n",
    "#User-based branch\n",
    "if rec_method == 'User-based':\n",
    "    n = int(input(\"How many similar users to base rec's off of? (Input an integer:\\n )\"))\n",
    "    print('\\n')\n",
    "    simUsers = our_funcs.getUserPC(user_sim_mat,u1,n)\n",
    "    #Serve up the rec's\n",
    "\n",
    "    our_funcs.userBasedRecs(nonan_test, simUsers, unrated, num_recs, \n",
    "                            rated, unique_products, metadata)\n",
    "\n",
    "#Item-based branch\n",
    "elif rec_method == 'Item-based':\n",
    "    \n",
    "    our_funcs.itemSim(nonan_test, u1, num_recs, unique_products, metadata, itm_sim_mat, unrated, rated)\n",
    "    \n",
    "#Hybrid branch\n",
    "elif rec_method == 'Hybrid':\n",
    "    n = int(input(\"How many similar users to base rec's off of? (Input an integer:\\n )\"))\n",
    "    simUsers = our_funcs.getUserPC(user_sim_mat,u1,n)\n",
    "    \n",
    "    our_funcs.hybridRec(nonan_test, simUsers, unrated, num_recs, \n",
    "              rated, unique_products, metadata)\n"
   ]
  },
  {
   "cell_type": "code",
   "execution_count": 15,
   "metadata": {
    "collapsed": false
   },
   "outputs": [
    {
     "name": "stdout",
     "output_type": "stream",
     "text": [
      "Now that you've seen some examples, let's talk about performance \n",
      "\n",
      "-- Recommender evaluator -- \n",
      "\n",
      "\n",
      "Which recommendation method do you want to evaluate? \n",
      "(type 'User-based', 'Item-based', 'Hybrid'): User-based\n",
      "How many similar users to base rec's off of? (type an integer)\n",
      "3\n",
      "How do you want to evaluate the recommender system? \n",
      "(type 'MAE' or 'Recall')MAE\n",
      "How many recommendations to give?(type an integer)\n",
      "3\n",
      "\n",
      "\n",
      "MEAN ABSOLUTE ERROR:  0.717557251908\n"
     ]
    }
   ],
   "source": [
    "# Validation of results\n",
    "\n",
    "print(\"Now that you've seen some examples, let's talk about performance \\n\")\n",
    "print(\"-- Recommender evaluator -- \\n\\n\")\n",
    "\n",
    "rec_method = input(\"Which recommendation method do you want to evaluate? \\n(type 'User-based', 'Item-based', 'Hybrid'): \")\n",
    "\n",
    "if rec_method == 'User-based' or rec_method == 'Hybrid':\n",
    "    n = int(input(\"How many similar users to base rec's off of? (type an integer)\\n\"))\n",
    "    eval_method = input(\"How do you want to evaluate the recommender system? \\n(type 'MAE' or 'Recall')\")\n",
    "    num_recs = int(input(\"How many recommendations to give?(type an integer)\\n\"))\n",
    "    print('\\n')\n",
    "    #User branch\n",
    "    if rec_method == \"User-based\":\n",
    "        if eval_method == 'MAE':\n",
    "            our_funcs.calc_mae_user(nonan_test, 0.01, n, user_sim_mat)\n",
    "        elif eval_method == 'Recall':\n",
    "            # !! needs work \n",
    "            our_funcs.user_based_recall(nonan_test, 0.001, n, num_recs, unique_products, metadata, user_sim_mat)\n",
    "    \n",
    "    #Hybrid branch\n",
    "    elif rec_method == 'Hybrid':\n",
    "        if eval_method == 'MAE':\n",
    "            our_funcs.calc_mae_hyb(nonan_test, 0.01, n, unique_products, metadata, user_sim_mat)\n",
    "        elif eval_method == 'Recall':\n",
    "            # !! needs work \n",
    "            our_funcs.hybrid_recall(nonan_test, 0.01, n, num_recs, unique_products, metadata, user_sim_mat)\n",
    "            \n",
    "elif rec_method == 'Item-based':\n",
    "    eval_method = input(\"How do you want to evaluate the recommender system? \\n(type 'MAE' or 'Recall')\")\n",
    "    num_recs = int(input(\"How many recommendations to give? \\n(type an integer): \"))\n",
    "    \n",
    "    if eval_method == 'MAE':\n",
    "        our_funcs.calc_mae_itm(nonan_test, 0.01, n, itm_sim_mat)\n",
    "        \n",
    "    elif eval_method == 'Recall':\n",
    "        our_funcs.item_based_recall(nonan_test, u1, 0.01, n, num_recs, unique_products, metadata, itm_sim_mat)\n",
    "        "
   ]
  }
 ],
 "metadata": {
  "anaconda-cloud": {},
  "kernelspec": {
   "display_name": "Python [default]",
   "language": "python",
   "name": "python3"
  },
  "language_info": {
   "codemirror_mode": {
    "name": "ipython",
    "version": 3
   },
   "file_extension": ".py",
   "mimetype": "text/x-python",
   "name": "python",
   "nbconvert_exporter": "python",
   "pygments_lexer": "ipython3",
   "version": "3.5.2"
  }
 },
 "nbformat": 4,
 "nbformat_minor": 0
}
